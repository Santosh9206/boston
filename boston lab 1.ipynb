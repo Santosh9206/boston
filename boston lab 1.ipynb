{
 "metadata": {
  "name": "",
  "signature": "sha256:f7dd38f499d4407726c2b4162cfe87ec1037729d0934ffcbf54d45aba8112c8c"
 },
 "nbformat": 3,
 "nbformat_minor": 0,
 "worksheets": [
  {
   "cells": [
    {
     "cell_type": "code",
     "collapsed": false,
     "input": [
      "from sklearn import datasets\n",
      "import pandas as pd\n",
      "from sklearn.preprocessing import StandardScaler\n",
      "from sklearn.cross_validation import train_test_split\n",
      "from sklearn.metrics import mean_squared_error\n",
      "from sklearn.metrics import r2_score\n",
      "from sklearn.linear_model import LinearRegression"
     ],
     "language": "python",
     "metadata": {},
     "outputs": [],
     "prompt_number": 1
    },
    {
     "cell_type": "code",
     "collapsed": false,
     "input": [
      "bean = datasets.load_boston()\n",
      "print bean.DESCR"
     ],
     "language": "python",
     "metadata": {},
     "outputs": [
      {
       "output_type": "stream",
       "stream": "stdout",
       "text": [
        "Boston House Prices dataset\n",
        "\n",
        "Notes\n",
        "------\n",
        "Data Set Characteristics:  \n",
        "\n",
        "    :Number of Instances: 506 \n",
        "\n",
        "    :Number of Attributes: 13 numeric/categorical predictive\n",
        "    \n",
        "    :Median Value (attribute 14) is usually the target\n",
        "\n",
        "    :Attribute Information (in order):\n",
        "        - CRIM     per capita crime rate by town\n",
        "        - ZN       proportion of residential land zoned for lots over 25,000 sq.ft.\n",
        "        - INDUS    proportion of non-retail business acres per town\n",
        "        - CHAS     Charles River dummy variable (= 1 if tract bounds river; 0 otherwise)\n",
        "        - NOX      nitric oxides concentration (parts per 10 million)\n",
        "        - RM       average number of rooms per dwelling\n",
        "        - AGE      proportion of owner-occupied units built prior to 1940\n",
        "        - DIS      weighted distances to five Boston employment centres\n",
        "        - RAD      index of accessibility to radial highways\n",
        "        - TAX      full-value property-tax rate per $10,000\n",
        "        - PTRATIO  pupil-teacher ratio by town\n",
        "        - B        1000(Bk - 0.63)^2 where Bk is the proportion of blacks by town\n",
        "        - LSTAT    % lower status of the population\n",
        "        - MEDV     Median value of owner-occupied homes in $1000's\n",
        "\n",
        "    :Missing Attribute Values: None\n",
        "\n",
        "    :Creator: Harrison, D. and Rubinfeld, D.L.\n",
        "\n",
        "This is a copy of UCI ML housing dataset.\n",
        "http://archive.ics.uci.edu/ml/datasets/Housing\n",
        "\n",
        "\n",
        "This dataset was taken from the StatLib library which is maintained at Carnegie Mellon University.\n",
        "\n",
        "The Boston house-price data of Harrison, D. and Rubinfeld, D.L. 'Hedonic\n",
        "prices and the demand for clean air', J. Environ. Economics & Management,\n",
        "vol.5, 81-102, 1978.   Used in Belsley, Kuh & Welsch, 'Regression diagnostics\n",
        "...', Wiley, 1980.   N.B. Various transformations are used in the table on\n",
        "pages 244-261 of the latter.\n",
        "\n",
        "The Boston house-price data has been used in many machine learning papers that address regression\n",
        "problems.   \n",
        "     \n",
        "**References**\n",
        "\n",
        "   - Belsley, Kuh & Welsch, 'Regression diagnostics: Identifying Influential Data and Sources of Collinearity', Wiley, 1980. 244-261.\n",
        "   - Quinlan,R. (1993). Combining Instance-Based and Model-Based Learning. In Proceedings on the Tenth International Conference of Machine Learning, 236-243, University of Massachusetts, Amherst. Morgan Kaufmann.\n",
        "   - many more! (see http://archive.ics.uci.edu/ml/datasets/Housing)\n",
        "\n"
       ]
      }
     ],
     "prompt_number": 2
    },
    {
     "cell_type": "code",
     "collapsed": false,
     "input": [
      "def load_boston():\n",
      "    scaler = StandardScaler()\n",
      "    boston = datasets.load_boston()\n",
      "    X=boston.data\n",
      "    y=boston.target\n",
      "    X = scaler.fit_transform(X)\n",
      "    return train_test_split(X,y)"
     ],
     "language": "python",
     "metadata": {},
     "outputs": [],
     "prompt_number": 3
    },
    {
     "cell_type": "code",
     "collapsed": false,
     "input": [
      "X_train, X_test, y_train, y_test = load_boston()"
     ],
     "language": "python",
     "metadata": {},
     "outputs": [],
     "prompt_number": 4
    },
    {
     "cell_type": "code",
     "collapsed": false,
     "input": [
      "X_train.shape"
     ],
     "language": "python",
     "metadata": {},
     "outputs": [
      {
       "metadata": {},
       "output_type": "pyout",
       "prompt_number": 5,
       "text": [
        "(379L, 13L)"
       ]
      }
     ],
     "prompt_number": 5
    },
    {
     "cell_type": "code",
     "collapsed": false,
     "input": [
      "clf = LinearRegression()\n",
      "clf.fit(X_train, y_train)"
     ],
     "language": "python",
     "metadata": {},
     "outputs": [
      {
       "metadata": {},
       "output_type": "pyout",
       "prompt_number": 6,
       "text": [
        "LinearRegression(copy_X=True, fit_intercept=True, normalize=False)"
       ]
      }
     ],
     "prompt_number": 6
    },
    {
     "cell_type": "code",
     "collapsed": false,
     "input": [
      "zip (y_test, clf.predict(X_test))"
     ],
     "language": "python",
     "metadata": {},
     "outputs": [
      {
       "metadata": {},
       "output_type": "pyout",
       "prompt_number": 7,
       "text": [
        "[(25.0, 25.790148151710447),\n",
        " (22.899999999999999, 25.04804239875579),\n",
        " (12.1, 18.129046357500361),\n",
        " (38.700000000000003, 35.063237249546937),\n",
        " (34.899999999999999, 34.427546120374508),\n",
        " (43.5, 39.289323323997593),\n",
        " (20.199999999999999, 22.854879070886696),\n",
        " (33.299999999999997, 36.551523125975926),\n",
        " (17.800000000000001, 17.570484260916903),\n",
        " (29.899999999999999, 31.223757360317336),\n",
        " (21.399999999999999, 20.493095414647996),\n",
        " (15.6, 12.858169307540004),\n",
        " (23.699999999999999, 27.458814408723288),\n",
        " (13.800000000000001, 11.85284586242569),\n",
        " (20.699999999999999, 24.999172017087034),\n",
        " (23.300000000000001, 26.177255595915582),\n",
        " (22.199999999999999, 25.676468765046582),\n",
        " (20.300000000000001, 22.747384572636978),\n",
        " (17.5, 18.513843076325237),\n",
        " (14.6, 19.177399451108595),\n",
        " (20.5, 24.314668913781734),\n",
        " (19.600000000000001, 17.634918821054935),\n",
        " (28.399999999999999, 28.171936765676403),\n",
        " (22.5, 17.738292082650617),\n",
        " (19.899999999999999, 17.95077054837321),\n",
        " (46.700000000000003, 34.644818816405781),\n",
        " (22.600000000000001, 22.486765070481241),\n",
        " (32.0, 33.798708513630132),\n",
        " (35.399999999999999, 34.221276835757109),\n",
        " (20.0, 16.437700750509034),\n",
        " (16.5, 11.576588603983915),\n",
        " (23.0, 23.581995903763996),\n",
        " (20.399999999999999, 20.40731003401886),\n",
        " (24.0, 30.287119497335702),\n",
        " (21.699999999999999, 21.024717605566739),\n",
        " (50.0, 35.078669627657014),\n",
        " (48.299999999999997, 36.521590902656754),\n",
        " (17.199999999999999, 15.647928565500848),\n",
        " (15.699999999999999, 14.445312933075137),\n",
        " (13.1, 14.110255245474741),\n",
        " (20.600000000000001, 17.143051680264438),\n",
        " (20.5, 20.20614529830684),\n",
        " (19.100000000000001, 19.822122585713959),\n",
        " (17.899999999999999, 0.62598272584880377),\n",
        " (10.5, 6.3795028035233585),\n",
        " (20.699999999999999, 21.497655131205104),\n",
        " (19.0, 13.668737352842349),\n",
        " (14.9, 17.656917306949261),\n",
        " (48.799999999999997, 40.765302870357303),\n",
        " (21.399999999999999, 23.895669567239043),\n",
        " (29.600000000000001, 24.357249025508295),\n",
        " (21.600000000000001, 25.098741769434106),\n",
        " (18.100000000000001, 17.366441846565102),\n",
        " (21.699999999999999, 21.47632053606101),\n",
        " (18.5, 25.25387361652944),\n",
        " (15.0, 19.181456139212358),\n",
        " (21.0, 20.612473422652805),\n",
        " (21.699999999999999, 24.682881919510979),\n",
        " (13.4, 15.506205260994866),\n",
        " (30.5, 30.559378985489289),\n",
        " (8.3000000000000007, 8.8619852944568507),\n",
        " (25.199999999999999, 27.001871780046127),\n",
        " (22.800000000000001, 28.862139805244606),\n",
        " (43.799999999999997, 34.253470332242301),\n",
        " (27.5, 24.256366921949663),\n",
        " (23.199999999999999, 27.415487098231662),\n",
        " (8.5, 16.531416116455006),\n",
        " (21.199999999999999, 23.403318836608179),\n",
        " (15.300000000000001, 20.929962515060229),\n",
        " (8.6999999999999993, 7.6992383936521112),\n",
        " (23.100000000000001, 25.796206872433363),\n",
        " (48.5, 41.894351797723004),\n",
        " (16.300000000000001, 11.58990914680048),\n",
        " (8.3000000000000007, 13.31667727391155),\n",
        " (22.199999999999999, 24.235604078976792),\n",
        " (24.199999999999999, 24.833134772198431),\n",
        " (23.899999999999999, 24.463150363323756),\n",
        " (13.300000000000001, 19.870740093517519),\n",
        " (22.899999999999999, 23.432048660776573),\n",
        " (42.799999999999997, 29.41299493160075),\n",
        " (27.5, 18.87717601305884),\n",
        " (50.0, 32.4427381090713),\n",
        " (15.199999999999999, 19.351138348269856),\n",
        " (50.0, 25.814336155276578),\n",
        " (20.300000000000001, 22.495023569832522),\n",
        " (13.300000000000001, 15.588015246155738),\n",
        " (19.600000000000001, 19.522990624027958),\n",
        " (7.2000000000000002, 8.1546677272397794),\n",
        " (27.899999999999999, 31.808616180384774),\n",
        " (17.5, 16.788580778390454),\n",
        " (23.300000000000001, 28.461147572589006),\n",
        " (22.5, 29.592547831587474),\n",
        " (26.600000000000001, 27.623009137978102),\n",
        " (31.199999999999999, 28.714565990730755),\n",
        " (23.699999999999999, 28.384231241328976),\n",
        " (17.100000000000001, 17.33186203402245),\n",
        " (16.600000000000001, 15.489782564846063),\n",
        " (18.699999999999999, 18.108507259446927),\n",
        " (13.6, 14.278873079837293),\n",
        " (17.800000000000001, 22.232377071117938),\n",
        " (28.5, 33.408376829873049),\n",
        " (23.0, 23.580932694983861),\n",
        " (33.100000000000001, 32.661098506928965),\n",
        " (31.600000000000001, 33.767811306719679),\n",
        " (37.600000000000001, 37.144420805584716),\n",
        " (29.100000000000001, 30.228734390922515),\n",
        " (14.9, 17.078148006272677),\n",
        " (21.899999999999999, 36.419903721586337),\n",
        " (13.4, 12.43218649302128),\n",
        " (22.300000000000001, 27.109010865973467),\n",
        " (11.9, 22.507206519441162),\n",
        " (14.4, 3.7823155968848994),\n",
        " (18.399999999999999, 19.412315615977281),\n",
        " (25.0, 24.379119585058792),\n",
        " (22.199999999999999, 22.1275409523112),\n",
        " (24.100000000000001, 21.109571359014431),\n",
        " (22.0, 27.232777638913447),\n",
        " (44.799999999999997, 37.692052050393485),\n",
        " (18.600000000000001, 18.766876691889575),\n",
        " (18.600000000000001, 17.562179235590726),\n",
        " (19.5, 18.295063271172403),\n",
        " (20.199999999999999, 15.80932908360082),\n",
        " (18.199999999999999, 14.906279054932382),\n",
        " (27.100000000000001, 27.629881641540887),\n",
        " (29.600000000000001, 24.889506211320821),\n",
        " (29.0, 30.886449444848232),\n",
        " (16.5, 22.260245286398295)]"
       ]
      }
     ],
     "prompt_number": 7
    },
    {
     "cell_type": "code",
     "collapsed": false,
     "input": [
      "from sklearn.datasets import *\n",
      "data = load_boston()\n",
      "print data.DESR"
     ],
     "language": "python",
     "metadata": {},
     "outputs": [
      {
       "ename": "AttributeError",
       "evalue": "'Bunch' object has no attribute 'DESR'",
       "output_type": "pyerr",
       "traceback": [
        "\u001b[1;31m---------------------------------------------------------------------------\u001b[0m\n\u001b[1;31mAttributeError\u001b[0m                            Traceback (most recent call last)",
        "\u001b[1;32m<ipython-input-8-9b48c6868d0c>\u001b[0m in \u001b[0;36m<module>\u001b[1;34m()\u001b[0m\n\u001b[0;32m      1\u001b[0m \u001b[1;32mfrom\u001b[0m \u001b[0msklearn\u001b[0m\u001b[1;33m.\u001b[0m\u001b[0mdatasets\u001b[0m \u001b[1;32mimport\u001b[0m \u001b[1;33m*\u001b[0m\u001b[1;33m\u001b[0m\u001b[0m\n\u001b[0;32m      2\u001b[0m \u001b[0mdata\u001b[0m \u001b[1;33m=\u001b[0m \u001b[0mload_boston\u001b[0m\u001b[1;33m(\u001b[0m\u001b[1;33m)\u001b[0m\u001b[1;33m\u001b[0m\u001b[0m\n\u001b[1;32m----> 3\u001b[1;33m \u001b[1;32mprint\u001b[0m \u001b[0mdata\u001b[0m\u001b[1;33m.\u001b[0m\u001b[0mDESR\u001b[0m\u001b[1;33m\u001b[0m\u001b[0m\n\u001b[0m",
        "\u001b[1;31mAttributeError\u001b[0m: 'Bunch' object has no attribute 'DESR'"
       ]
      }
     ],
     "prompt_number": 8
    },
    {
     "cell_type": "code",
     "collapsed": false,
     "input": [
      "from sklearn.datasets import *\n",
      "from sklearn.linear_model import LinearRegression\n",
      "\n",
      "data = load_boston()\n",
      "model = LinearRegression()\n",
      "model.fit(data.data, data.target)\n",
      "print model.__dict__\n",
      "print model.score(data.data, data.target)"
     ],
     "language": "python",
     "metadata": {},
     "outputs": [
      {
       "output_type": "stream",
       "stream": "stdout",
       "text": [
        "{'normalize': False, 'intercept_': 36.491103280360925, 'residues_': 11080.276284149873, 'fit_intercept': True, 'coef_': array([ -1.07170557e-01,   4.63952195e-02,   2.08602395e-02,\n",
        "         2.68856140e+00,  -1.77957587e+01,   3.80475246e+00,\n",
        "         7.51061703e-04,  -1.47575880e+00,   3.05655038e-01,\n",
        "        -1.23293463e-02,  -9.53463555e-01,   9.39251272e-03,\n",
        "        -5.25466633e-01]), 'copy_X': True, 'rank_': 13, 'singular_': array([  3.94958310e+03,   1.77662274e+03,   6.42864253e+02,\n",
        "         3.66980826e+02,   1.59116390e+02,   1.18692322e+02,\n",
        "         9.01718207e+01,   6.93889529e+01,   4.06572735e+01,\n",
        "         2.44223087e+01,   1.13502686e+01,   5.50918200e+00,\n",
        "         1.24178413e+00])}\n",
        "0.740607742865\n"
       ]
      }
     ],
     "prompt_number": 9
    },
    {
     "cell_type": "code",
     "collapsed": false,
     "input": [
      "from sklearn.datasets import *\n",
      "from sklearn.cross_validation import train_test_split\n",
      "\n",
      "data = load_boston()\n",
      "\n",
      "X_train, X_test, y_train, y_test = train_test_split(data.data, data.target, train_size=0.5)\n",
      "model = LinearRegression()\n",
      "model.fit(X_train, y_train)\n",
      "print \"Train R2 %f\" %model.score(X_train, y_train)\n",
      "print \"Test R2 %f\" %model.score(X_test, y_test)"
     ],
     "language": "python",
     "metadata": {},
     "outputs": [
      {
       "output_type": "stream",
       "stream": "stdout",
       "text": [
        "Train R2 0.760417\n",
        "Test R2 0.702097\n"
       ]
      }
     ],
     "prompt_number": 10
    },
    {
     "cell_type": "code",
     "collapsed": false,
     "input": [
      "#mean sqared error\n",
      "from sklearn.metrics import mean_squared_error\n",
      "y_true = [5, -0.7, 4, 9]\n",
      "y_pred = [6, 0.07, 4, 6]\n",
      "mean_squared_error(y_true, y_pred)"
     ],
     "language": "python",
     "metadata": {},
     "outputs": [
      {
       "metadata": {},
       "output_type": "pyout",
       "prompt_number": 11,
       "text": [
        "2.6482250000000001"
       ]
      }
     ],
     "prompt_number": 11
    },
    {
     "cell_type": "code",
     "collapsed": false,
     "input": [
      "y_true = [[0.6, 2],[-6, 2],[2, -1]]\n",
      "y_pred = [[0, 7],[-1, 2],[9, -5]]\n",
      "mean_squared_error(y_true, y_pred)"
     ],
     "language": "python",
     "metadata": {},
     "outputs": [
      {
       "metadata": {},
       "output_type": "pyout",
       "prompt_number": 12,
       "text": [
        "19.226666666666667"
       ]
      }
     ],
     "prompt_number": 12
    },
    {
     "cell_type": "code",
     "collapsed": false,
     "input": [
      "#using linear regularization sklearn.linear_model.Lasso\n",
      "from sklearn import linear_model\n",
      "clf = linear_model.Lasso(alpha=0.1)\n",
      "clf.fit([[0,1], [2, 4], [1, 4]], [0, 2, 7])"
     ],
     "language": "python",
     "metadata": {},
     "outputs": [
      {
       "metadata": {},
       "output_type": "pyout",
       "prompt_number": 13,
       "text": [
        "Lasso(alpha=0.1, copy_X=True, fit_intercept=True, max_iter=1000,\n",
        "   normalize=False, positive=False, precompute='auto', tol=0.0001,\n",
        "   warm_start=False)"
       ]
      }
     ],
     "prompt_number": 13
    },
    {
     "cell_type": "code",
     "collapsed": false,
     "input": [
      "print(clf.coef_)"
     ],
     "language": "python",
     "metadata": {},
     "outputs": [
      {
       "output_type": "stream",
       "stream": "stdout",
       "text": [
        "[-4.09882136  3.49941068]\n"
       ]
      }
     ],
     "prompt_number": 14
    },
    {
     "cell_type": "code",
     "collapsed": false,
     "input": [
      "print(clf.intercept_)"
     ],
     "language": "python",
     "metadata": {},
     "outputs": [
      {
       "output_type": "stream",
       "stream": "stdout",
       "text": [
        "-3.3994106791\n"
       ]
      }
     ],
     "prompt_number": 15
    },
    {
     "cell_type": "code",
     "collapsed": false,
     "input": [
      "from sklearn import linear_model\n",
      "clfA = linear_model.Lasso(alpha=1.0)\n",
      "clfA.fit([[0,0], [1, 3], [2, 4]], [0, 1, 2])"
     ],
     "language": "python",
     "metadata": {},
     "outputs": [
      {
       "metadata": {},
       "output_type": "pyout",
       "prompt_number": 16,
       "text": [
        "Lasso(alpha=1.0, copy_X=True, fit_intercept=True, max_iter=1000,\n",
        "   normalize=False, positive=False, precompute='auto', tol=0.0001,\n",
        "   warm_start=False)"
       ]
      }
     ],
     "prompt_number": 16
    },
    {
     "cell_type": "code",
     "collapsed": false,
     "input": [
      "clfB = linear_model.Lasso(alpha=10.0)\n",
      "clfB.fit([[0,0], [1, 1], [2, 2]], [0, 1, 3])"
     ],
     "language": "python",
     "metadata": {},
     "outputs": [
      {
       "metadata": {},
       "output_type": "pyout",
       "prompt_number": 17,
       "text": [
        "Lasso(alpha=10.0, copy_X=True, fit_intercept=True, max_iter=1000,\n",
        "   normalize=False, positive=False, precompute='auto', tol=0.0001,\n",
        "   warm_start=False)"
       ]
      }
     ],
     "prompt_number": 17
    },
    {
     "cell_type": "code",
     "collapsed": false,
     "input": [
      "from sklearn.linear_model import Ridge\n",
      "import numpy as np\n",
      "n_samples, n_features = 10, 5\n",
      "np.random.seed(0)\n",
      "y = np.random.randn(n_samples)\n",
      "X = np.random.randn(n_samples, n_features)\n",
      "clf = Ridge(alpha=1.0)\n",
      "clf.fit(X, y) \n",
      "Ridge(alpha=1.0, copy_X=True, fit_intercept=True, max_iter=None,\n",
      "      normalize=False, solver='auto', tol=0.001)"
     ],
     "language": "python",
     "metadata": {},
     "outputs": [
      {
       "metadata": {},
       "output_type": "pyout",
       "prompt_number": 18,
       "text": [
        "Ridge(alpha=1.0, copy_X=True, fit_intercept=True, max_iter=None,\n",
        "   normalize=False, solver='auto', tol=0.001)"
       ]
      }
     ],
     "prompt_number": 18
    },
    {
     "cell_type": "code",
     "collapsed": false,
     "input": [],
     "language": "python",
     "metadata": {},
     "outputs": []
    }
   ],
   "metadata": {}
  }
 ]
}